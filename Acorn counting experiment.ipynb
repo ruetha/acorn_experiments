{
 "cells": [
  {
   "cell_type": "markdown",
   "id": "fc530b62-26d7-4394-875a-587724195880",
   "metadata": {},
   "source": [
    "# Acorn counting experiment\n",
    "\n",
    "This notebook contains the preliminary analysis of my acorn count observational experiment, carried out on Noth-West Poland.\n",
    "\n",
    "Species analysed: \n",
    "- Common European Pedunculate Oak (_Quercus petraea_)\n",
    "- Alien invasive Red Oak (_Quercus rubra_)\n",
    "\n",
    "The used programming language is R"
   ]
  },
  {
   "cell_type": "code",
   "execution_count": 2,
   "id": "6a63a764-206b-4153-b0ac-35428928cb63",
   "metadata": {},
   "outputs": [
    {
     "data": {
      "text/html": [
       "'C:/Users/sarah/Documents/Projects/acorn_observational_experiment'"
      ],
      "text/latex": [
       "'C:/Users/sarah/Documents/Projects/acorn\\_observational\\_experiment'"
      ],
      "text/markdown": [
       "'C:/Users/sarah/Documents/Projects/acorn_observational_experiment'"
      ],
      "text/plain": [
       "[1] \"C:/Users/sarah/Documents/Projects/acorn_observational_experiment\""
      ]
     },
     "metadata": {},
     "output_type": "display_data"
    }
   ],
   "source": [
    "getwd()"
   ]
  },
  {
   "cell_type": "code",
   "execution_count": 7,
   "id": "8ff7007f-0bd3-46d0-a731-af2079ded9db",
   "metadata": {},
   "outputs": [],
   "source": [
    "# Importing standard packages\n",
    "library(dplyr)\n",
    "library(ggplot2)\n",
    "library(plotly)"
   ]
  },
  {
   "cell_type": "markdown",
   "id": "1cc6765c-f6a5-4736-868e-4c43ca7e4cd0",
   "metadata": {},
   "source": [
    "# Read data"
   ]
  },
  {
   "cell_type": "code",
   "execution_count": 9,
   "id": "b1261d96-8430-4fdc-994e-995fa6135189",
   "metadata": {},
   "outputs": [
    {
     "name": "stderr",
     "output_type": "stream",
     "text": [
      "Warning message in eval(expr, envir, enclos):\n",
      "\"NA introdotti per coercizione\"\n"
     ]
    },
    {
     "data": {
      "text/plain": [
       "     number        year        date                month              plot   \n",
       " Min.   : 1.00   2021:37   Length:74          November:37   elle        : 8  \n",
       " 1st Qu.:19.25   NA's:37   Class :character   October :37   far_far_away: 8  \n",
       " Median :37.50             Mode  :character                 ro_plot     :34  \n",
       " Mean   :37.50                                              wild        : 8  \n",
       " 3rd Qu.:55.75                                              wild_far    : 8  \n",
       " Max.   :74.00                                              wild_middle : 8  \n",
       "                                                                             \n",
       "      tree    species area_traps_m2     acorns       aborted_small  \n",
       " 1      : 2   RO:34   Min.   : NA   Min.   : 0.000   Min.   : 0.00  \n",
       " 2      : 2   SO:40   1st Qu.: NA   1st Qu.: 0.000   1st Qu.: 0.00  \n",
       " 3      : 2           Median : NA   Median : 0.000   Median : 0.00  \n",
       " 4      : 2           Mean   :NaN   Mean   : 1.838   Mean   : 1.73  \n",
       " 5      : 2           3rd Qu.: NA   3rd Qu.: 1.000   3rd Qu.: 1.00  \n",
       " 6      : 2           Max.   : NA   Max.   :33.000   Max.   :19.00  \n",
       " (Other):62           NA's   :74                                    \n",
       " aborted_verysmall  aborted_tot        notes          \n",
       " Min.   : 0.000    Min.   : 0.000   Length:74         \n",
       " 1st Qu.: 0.000    1st Qu.: 0.000   Class :character  \n",
       " Median : 0.000    Median : 0.000   Mode  :character  \n",
       " Mean   : 1.365    Mean   : 3.095                     \n",
       " 3rd Qu.: 1.000    3rd Qu.: 1.750                     \n",
       " Max.   :28.000    Max.   :28.000                     \n",
       "                                                      "
      ]
     },
     "metadata": {},
     "output_type": "display_data"
    }
   ],
   "source": [
    "#Read csv\n",
    "seedrain_dataset <- read.csv(\"Acorn counting_master_new.csv\", header = T, sep=\";\", dec=\".\")\n",
    "\n",
    "#Specify feature data type\n",
    "seedrain_dataset$year = as.factor(seedrain_dataset$year)\n",
    "seedrain_dataset$month = as.factor(seedrain_dataset$month)\n",
    "seedrain_dataset$plot = as.factor(seedrain_dataset$plot)\n",
    "seedrain_dataset$tree = as.factor(seedrain_dataset$tree)\n",
    "seedrain_dataset$species = as.factor(seedrain_dataset$species)\n",
    "seedrain_dataset$area_traps_m2 = as.numeric(seedrain_dataset$area_traps_m2)\n",
    "seedrain_dataset$acorns = as.numeric(seedrain_dataset$acorns)\n",
    "seedrain_dataset$aborted_tot = as.numeric(seedrain_dataset$aborted_tot)\n",
    "summary(seedrain_dataset)"
   ]
  },
  {
   "cell_type": "markdown",
   "id": "1774b356-7943-4450-a835-b522bad7b1cc",
   "metadata": {},
   "source": [
    "## Create datasets for analysis"
   ]
  },
  {
   "cell_type": "code",
   "execution_count": 12,
   "id": "9fa8cd2b-981a-4bad-a9b7-eedcff8997eb",
   "metadata": {},
   "outputs": [
    {
     "name": "stderr",
     "output_type": "stream",
     "text": [
      "\u001b[1m\u001b[22m`summarise()` has grouped output by 'species'. You can override using the `.groups` argument.\n"
     ]
    },
    {
     "data": {
      "text/html": [
       "<table class=\"dataframe\">\n",
       "<caption>A grouped_df: 4 × 6</caption>\n",
       "<thead>\n",
       "\t<tr><th scope=col>species</th><th scope=col>month</th><th scope=col>mean_acorns</th><th scope=col>sd_acorns</th><th scope=col>n_acorns</th><th scope=col>SE_acorns</th></tr>\n",
       "\t<tr><th scope=col>&lt;fct&gt;</th><th scope=col>&lt;fct&gt;</th><th scope=col>&lt;dbl&gt;</th><th scope=col>&lt;dbl&gt;</th><th scope=col>&lt;int&gt;</th><th scope=col>&lt;dbl&gt;</th></tr>\n",
       "</thead>\n",
       "<tbody>\n",
       "\t<tr><td>RO</td><td>November</td><td>1.294118</td><td>2.4689245</td><td>17</td><td>0.59880215</td></tr>\n",
       "\t<tr><td>RO</td><td>October </td><td>6.235294</td><td>9.3776957</td><td>17</td><td>2.27442529</td></tr>\n",
       "\t<tr><td>SO</td><td>November</td><td>0.100000</td><td>0.3077935</td><td>20</td><td>0.06882472</td></tr>\n",
       "\t<tr><td>SO</td><td>October </td><td>0.300000</td><td>0.8013147</td><td>20</td><td>0.17917942</td></tr>\n",
       "</tbody>\n",
       "</table>\n"
      ],
      "text/latex": [
       "A grouped\\_df: 4 × 6\n",
       "\\begin{tabular}{llllll}\n",
       " species & month & mean\\_acorns & sd\\_acorns & n\\_acorns & SE\\_acorns\\\\\n",
       " <fct> & <fct> & <dbl> & <dbl> & <int> & <dbl>\\\\\n",
       "\\hline\n",
       "\t RO & November & 1.294118 & 2.4689245 & 17 & 0.59880215\\\\\n",
       "\t RO & October  & 6.235294 & 9.3776957 & 17 & 2.27442529\\\\\n",
       "\t SO & November & 0.100000 & 0.3077935 & 20 & 0.06882472\\\\\n",
       "\t SO & October  & 0.300000 & 0.8013147 & 20 & 0.17917942\\\\\n",
       "\\end{tabular}\n"
      ],
      "text/markdown": [
       "\n",
       "A grouped_df: 4 × 6\n",
       "\n",
       "| species &lt;fct&gt; | month &lt;fct&gt; | mean_acorns &lt;dbl&gt; | sd_acorns &lt;dbl&gt; | n_acorns &lt;int&gt; | SE_acorns &lt;dbl&gt; |\n",
       "|---|---|---|---|---|---|\n",
       "| RO | November | 1.294118 | 2.4689245 | 17 | 0.59880215 |\n",
       "| RO | October  | 6.235294 | 9.3776957 | 17 | 2.27442529 |\n",
       "| SO | November | 0.100000 | 0.3077935 | 20 | 0.06882472 |\n",
       "| SO | October  | 0.300000 | 0.8013147 | 20 | 0.17917942 |\n",
       "\n"
      ],
      "text/plain": [
       "  species month    mean_acorns sd_acorns n_acorns SE_acorns \n",
       "1 RO      November 1.294118    2.4689245 17       0.59880215\n",
       "2 RO      October  6.235294    9.3776957 17       2.27442529\n",
       "3 SO      November 0.100000    0.3077935 20       0.06882472\n",
       "4 SO      October  0.300000    0.8013147 20       0.17917942"
      ]
     },
     "metadata": {},
     "output_type": "display_data"
    }
   ],
   "source": [
    "# dataset with acorns stats\n",
    "acorns_stats <- seedrain_dataset %>%\n",
    "  group_by(species, month) %>% \n",
    "  filter(!is.na(species)) %>%\n",
    "  summarize(mean_acorns = mean(acorns, na.rm=TRUE), \n",
    "            sd_acorns = sd(acorns, na.rm=TRUE),\n",
    "            n_acorns = n(),\n",
    "            SE_acorns = sd_acorns/sqrt(n()))\n",
    "View(acorns_stats)"
   ]
  },
  {
   "cell_type": "code",
   "execution_count": 14,
   "id": "3d216007-665a-4fef-89bb-8018c4e112dd",
   "metadata": {},
   "outputs": [
    {
     "name": "stderr",
     "output_type": "stream",
     "text": [
      "\u001b[1m\u001b[22m`summarise()` has grouped output by 'species'. You can override using the `.groups` argument.\n"
     ]
    },
    {
     "data": {
      "text/html": [
       "<table class=\"dataframe\">\n",
       "<caption>A grouped_df: 4 × 6</caption>\n",
       "<thead>\n",
       "\t<tr><th scope=col>species</th><th scope=col>month</th><th scope=col>mean_abacorns</th><th scope=col>sd_abacorns</th><th scope=col>n_abacorns</th><th scope=col>SE_abacorns</th></tr>\n",
       "\t<tr><th scope=col>&lt;fct&gt;</th><th scope=col>&lt;fct&gt;</th><th scope=col>&lt;dbl&gt;</th><th scope=col>&lt;dbl&gt;</th><th scope=col>&lt;int&gt;</th><th scope=col>&lt;dbl&gt;</th></tr>\n",
       "</thead>\n",
       "<tbody>\n",
       "\t<tr><td>RO</td><td>November</td><td> 0.2941176</td><td>0.4696682</td><td>17</td><td>0.1139113</td></tr>\n",
       "\t<tr><td>RO</td><td>October </td><td> 0.4117647</td><td>0.7122871</td><td>17</td><td>0.1727550</td></tr>\n",
       "\t<tr><td>SO</td><td>November</td><td> 0.5500000</td><td>1.1459310</td><td>20</td><td>0.2562380</td></tr>\n",
       "\t<tr><td>SO</td><td>October </td><td>10.3000000</td><td>7.8880322</td><td>20</td><td>1.7638176</td></tr>\n",
       "</tbody>\n",
       "</table>\n"
      ],
      "text/latex": [
       "A grouped\\_df: 4 × 6\n",
       "\\begin{tabular}{llllll}\n",
       " species & month & mean\\_abacorns & sd\\_abacorns & n\\_abacorns & SE\\_abacorns\\\\\n",
       " <fct> & <fct> & <dbl> & <dbl> & <int> & <dbl>\\\\\n",
       "\\hline\n",
       "\t RO & November &  0.2941176 & 0.4696682 & 17 & 0.1139113\\\\\n",
       "\t RO & October  &  0.4117647 & 0.7122871 & 17 & 0.1727550\\\\\n",
       "\t SO & November &  0.5500000 & 1.1459310 & 20 & 0.2562380\\\\\n",
       "\t SO & October  & 10.3000000 & 7.8880322 & 20 & 1.7638176\\\\\n",
       "\\end{tabular}\n"
      ],
      "text/markdown": [
       "\n",
       "A grouped_df: 4 × 6\n",
       "\n",
       "| species &lt;fct&gt; | month &lt;fct&gt; | mean_abacorns &lt;dbl&gt; | sd_abacorns &lt;dbl&gt; | n_abacorns &lt;int&gt; | SE_abacorns &lt;dbl&gt; |\n",
       "|---|---|---|---|---|---|\n",
       "| RO | November |  0.2941176 | 0.4696682 | 17 | 0.1139113 |\n",
       "| RO | October  |  0.4117647 | 0.7122871 | 17 | 0.1727550 |\n",
       "| SO | November |  0.5500000 | 1.1459310 | 20 | 0.2562380 |\n",
       "| SO | October  | 10.3000000 | 7.8880322 | 20 | 1.7638176 |\n",
       "\n"
      ],
      "text/plain": [
       "  species month    mean_abacorns sd_abacorns n_abacorns SE_abacorns\n",
       "1 RO      November  0.2941176    0.4696682   17         0.1139113  \n",
       "2 RO      October   0.4117647    0.7122871   17         0.1727550  \n",
       "3 SO      November  0.5500000    1.1459310   20         0.2562380  \n",
       "4 SO      October  10.3000000    7.8880322   20         1.7638176  "
      ]
     },
     "metadata": {},
     "output_type": "display_data"
    }
   ],
   "source": [
    "# dataset with ABORTED acorns stats\n",
    "ab_acorns_stats <- seedrain_dataset %>%\n",
    "  group_by(species, month) %>% \n",
    "  filter(!is.na(species)) %>%\n",
    "  summarize(mean_abacorns = mean(aborted_tot, na.rm=TRUE), \n",
    "            sd_abacorns = sd(aborted_tot, na.rm=TRUE),\n",
    "            n_abacorns = n(),\n",
    "            SE_abacorns = sd_abacorns/sqrt(n()))\n",
    "View(ab_acorns_stats)"
   ]
  },
  {
   "cell_type": "markdown",
   "id": "6bb232b4-aba9-4bef-9e88-73f31edfbc9b",
   "metadata": {},
   "source": [
    "# Exploratory Data Analysis - EDA"
   ]
  },
  {
   "cell_type": "code",
   "execution_count": 17,
   "id": "5ed0d97f-ec80-4311-9008-9ec3cd8cdf33",
   "metadata": {},
   "outputs": [
    {
     "name": "stderr",
     "output_type": "stream",
     "text": [
      "Warning message:\n",
      "\"Transformation introduced infinite values in continuous x-axis\"\n",
      "Warning message:\n",
      "\"Removed 50 rows containing non-finite values (stat_density).\"\n"
     ]
    },
    {
     "data": {
      "image/png": "[encoded data removed]",
      "text/plain": [
       "plot without title"
      ]
     },
     "metadata": {
      "image/png": {
       "height": 420,
       "width": 420
      }
     },
     "output_type": "display_data"
    }
   ],
   "source": [
    "# density chart acorn distribution among species\n",
    "acornDC <- ggplot (subset(seedrain_dataset, !is.na(acorns), !is.na(species)), \n",
    "                             aes(acorns, fill = species)) +\n",
    "  geom_density(alpha = 0.5, size=.5) +\n",
    "  labs(x=expression(paste(\"Acorns/ \", \"m\"^\"2 \", \"per month\")), \n",
    "       y=\"Density\", fill=\"Species\") + \n",
    "  scale_x_log10() +\n",
    "  #facet_grid(~factor(month, level = c(\"October\", \"November\"))) +\n",
    "  scale_fill_manual(values = c('#A901DB','#04B486'),\n",
    "                    labels = c(\"Red aok\", \"Sessile oak\")) +\n",
    "  theme_classic()\n",
    "\n",
    "acornDC"
   ]
  },
  {
   "cell_type": "code",
   "execution_count": 19,
   "id": "ec470a68-9b3a-45ca-a88e-eb03c36b6fa3",
   "metadata": {},
   "outputs": [
    {
     "name": "stderr",
     "output_type": "stream",
     "text": [
      "Warning message:\n",
      "\"Transformation introduced infinite values in continuous x-axis\"\n",
      "Warning message:\n",
      "\"Removed 41 rows containing non-finite values (stat_density).\"\n"
     ]
    },
    {
     "data": {
      "image/png": "[encoded data removed]",
      "text/plain": [
       "plot without title"
      ]
     },
     "metadata": {
      "image/png": {
       "height": 420,
       "width": 420
      }
     },
     "output_type": "display_data"
    }
   ],
   "source": [
    "# density chart ABORTED acorn distribution among species\n",
    "acornDC <- ggplot (subset(seedrain_dataset, !is.na(acorns), !is.na(species)), \n",
    "                   aes(x=aborted_tot, fill = species)) +\n",
    "  geom_density(alpha = 0.5, size=.5) +\n",
    "  labs(x=expression(paste(\"Aborted acorns/ \", \"m\"^\"2 \", \"per month\")), \n",
    "       y=\"Density\", fill=\"Species\") + \n",
    "  scale_x_log10() +\n",
    "  facet_grid(~factor(month, level = c(\"October\", \"November\"))) +\n",
    "  ggtitle(\"Red aok and sessile oak aborted acorns in 2021 (log scale)\") +\n",
    "  scale_fill_manual(values = c('#A901DB','#04B486')) +\n",
    "  theme_bw()\n",
    "acornDC"
   ]
  },
  {
   "cell_type": "code",
   "execution_count": 20,
   "id": "eec543d5-5a96-48c1-9608-bee8439659ff",
   "metadata": {},
   "outputs": [
    {
     "data": {
      "image/png": "[encoded data removed]",
      "text/plain": [
       "plot without title"
      ]
     },
     "metadata": {
      "image/png": {
       "height": 420,
       "width": 420
      }
     },
     "output_type": "display_data"
    }
   ],
   "source": [
    "# bar graph mean acorn/m2 variation along season\n",
    "acorns_b <- ggplot(acorns_stats, aes(x=factor (month, level=c(\"October\", \"November\")), \n",
    "                                     y=mean_acorns, fill=species, na.rm=TRUE)) +\n",
    "  geom_bar(stat = \"identity\", color = \"black\", size = 0.5,\n",
    "           position = position_dodge()) +\n",
    "  geom_errorbar(aes(ymin=mean_acorns - SE_acorns, ymax=mean_acorns + SE_acorns), \n",
    "                width=.2, size=0.5, position = position_dodge(.9)) +\n",
    "  labs(x=\"Month\", y=expression(paste(\"Mean acorns/ \", \" m\"^\"2\")), fill=\"Species\") + \n",
    "  theme_classic() +\n",
    "  scale_fill_manual(values=c('#a6cee3','#b2df8a'),\n",
    "                    labels = c(\"Red oak\", \"Sessile oak\")) +\n",
    "  theme_classic()\n",
    "acorns_b"
   ]
  },
  {
   "cell_type": "code",
   "execution_count": 22,
   "id": "ea9cb0c0-f0a4-4ee7-9a97-9e1ee3bea913",
   "metadata": {},
   "outputs": [
    {
     "data": {
      "image/png": "[encoded data removed]",
      "text/plain": [
       "plot without title"
      ]
     },
     "metadata": {
      "image/png": {
       "height": 420,
       "width": 420
      }
     },
     "output_type": "display_data"
    }
   ],
   "source": [
    "# bar graph mean ABORTED acorn/m2 variation along season\n",
    "abacorns_b <- ggplot(ab_acorns_stats, aes(x=factor (month, level=c(\"October\", \"November\")), \n",
    "                                     y=mean_abacorns, fill=species, na.rm=TRUE)) +\n",
    "  geom_bar(stat = \"identity\", color = \"black\", size = 0.5,\n",
    "           position = position_dodge()) +\n",
    "  geom_errorbar(aes(ymin=mean_abacorns - SE_abacorns, ymax=mean_abacorns + SE_abacorns), \n",
    "                width=.2, size=0.5, position = position_dodge(.9)) +\n",
    "  labs(x=\"Month\", y=expression(paste(\"Mean aborted acorns/ \", \"m\"^\"2\")), fill = \"Species\") + \n",
    "  theme_classic() +\n",
    "  scale_fill_manual(values=c('#a6cee3','#b2df8a'),\n",
    "                    labels=c(\"Red oak\", \"Sessile oak\")) +\n",
    "  theme_classic()\n",
    "abacorns_b"
   ]
  }
 ],
 "metadata": {
  "kernelspec": {
   "display_name": "R",
   "language": "R",
   "name": "ir"
  },
  "language_info": {
   "codemirror_mode": "r",
   "file_extension": ".r",
   "mimetype": "text/x-r-source",
   "name": "R",
   "pygments_lexer": "r",
   "version": "4.1.3"
  }
 },
 "nbformat": 4,
 "nbformat_minor": 5
}
