{
 "cells": [
  {
   "cell_type": "markdown",
   "id": "fc530b62-26d7-4394-875a-587724195880",
   "metadata": {},
   "source": [
    "# Acorn counting experiment\n",
    "\n",
    "This notebook contains the preliminary analysis of my acorn count observational experiment, carried out on Noth-West Poland.\n",
    "\n",
    "Species analysed: \n",
    "- Common European Pedunculate Oak (_Quercus petraea_)\n",
    "- Alien invasive Red Oak (_Quercus rubra_)\n",
    "\n",
    "The used programming language is R"
   ]
  },
  {
   "cell_type": "code",
   "execution_count": 2,
   "id": "6a63a764-206b-4153-b0ac-35428928cb63",
   "metadata": {},
   "outputs": [
    {
     "data": {
      "text/html": [
       "'C:/Users/sarah/Documents/Projects/acorn_observational_experiment'"
      ],
      "text/latex": [
       "'C:/Users/sarah/Documents/Projects/acorn\\_observational\\_experiment'"
      ],
      "text/markdown": [
       "'C:/Users/sarah/Documents/Projects/acorn_observational_experiment'"
      ],
      "text/plain": [
       "[1] \"C:/Users/sarah/Documents/Projects/acorn_observational_experiment\""
      ]
     },
     "metadata": {},
     "output_type": "display_data"
    }
   ],
   "source": [
    "getwd()"
   ]
  },
  {
   "cell_type": "code",
   "execution_count": 7,
   "id": "8ff7007f-0bd3-46d0-a731-af2079ded9db",
   "metadata": {},
   "outputs": [],
   "source": [
    "# Importing standard packages\n",
    "library(dplyr)\n",
    "library(ggplot2)\n",
    "library(plotly)"
   ]
  },
  {
   "cell_type": "markdown",
   "id": "1cc6765c-f6a5-4736-868e-4c43ca7e4cd0",
   "metadata": {},
   "source": [
    "# Read data"
   ]
  },
  {
   "cell_type": "code",
   "execution_count": 9,
   "id": "b1261d96-8430-4fdc-994e-995fa6135189",
   "metadata": {},
   "outputs": [
    {
     "name": "stderr",
     "output_type": "stream",
     "text": [
      "Warning message in eval(expr, envir, enclos):\n",
      "\"NA introdotti per coercizione\"\n"
     ]
    },
    {
     "data": {
      "text/plain": [
       "     number        year        date                month              plot   \n",
       " Min.   : 1.00   2021:37   Length:74          November:37   elle        : 8  \n",
       " 1st Qu.:19.25   NA's:37   Class :character   October :37   far_far_away: 8  \n",
       " Median :37.50             Mode  :character                 ro_plot     :34  \n",
       " Mean   :37.50                                              wild        : 8  \n",
       " 3rd Qu.:55.75                                              wild_far    : 8  \n",
       " Max.   :74.00                                              wild_middle : 8  \n",
       "                                                                             \n",
       "      tree    species area_traps_m2     acorns       aborted_small  \n",
       " 1      : 2   RO:34   Min.   : NA   Min.   : 0.000   Min.   : 0.00  \n",
       " 2      : 2   SO:40   1st Qu.: NA   1st Qu.: 0.000   1st Qu.: 0.00  \n",
       " 3      : 2           Median : NA   Median : 0.000   Median : 0.00  \n",
       " 4      : 2           Mean   :NaN   Mean   : 1.838   Mean   : 1.73  \n",
       " 5      : 2           3rd Qu.: NA   3rd Qu.: 1.000   3rd Qu.: 1.00  \n",
       " 6      : 2           Max.   : NA   Max.   :33.000   Max.   :19.00  \n",
       " (Other):62           NA's   :74                                    \n",
       " aborted_verysmall  aborted_tot        notes          \n",
       " Min.   : 0.000    Min.   : 0.000   Length:74         \n",
       " 1st Qu.: 0.000    1st Qu.: 0.000   Class :character  \n",
       " Median : 0.000    Median : 0.000   Mode  :character  \n",
       " Mean   : 1.365    Mean   : 3.095                     \n",
       " 3rd Qu.: 1.000    3rd Qu.: 1.750                     \n",
       " Max.   :28.000    Max.   :28.000                     \n",
       "                                                      "
      ]
     },
     "metadata": {},
     "output_type": "display_data"
    }
   ],
   "source": [
    "#Read csv\n",
    "seedrain_dataset <- read.csv(\"Acorn counting_master_new.csv\", header = T, sep=\";\", dec=\".\")\n",
    "\n",
    "#Specify feature data type\n",
    "seedrain_dataset$year = as.factor(seedrain_dataset$year)\n",
    "seedrain_dataset$month = as.factor(seedrain_dataset$month)\n",
    "seedrain_dataset$plot = as.factor(seedrain_dataset$plot)\n",
    "seedrain_dataset$tree = as.factor(seedrain_dataset$tree)\n",
    "seedrain_dataset$species = as.factor(seedrain_dataset$species)\n",
    "seedrain_dataset$area_traps_m2 = as.numeric(seedrain_dataset$area_traps_m2)\n",
    "seedrain_dataset$acorns = as.numeric(seedrain_dataset$acorns)\n",
    "seedrain_dataset$aborted_tot = as.numeric(seedrain_dataset$aborted_tot)\n",
    "summary(seedrain_dataset)"
   ]
  },
  {
   "cell_type": "code",
   "execution_count": null,
   "id": "f1532a5d-a895-4ee4-8854-b2649f70f7fd",
   "metadata": {},
   "outputs": [],
   "source": []
  }
 ],
 "metadata": {
  "kernelspec": {
   "display_name": "R",
   "language": "R",
   "name": "ir"
  },
  "language_info": {
   "codemirror_mode": "r",
   "file_extension": ".r",
   "mimetype": "text/x-r-source",
   "name": "R",
   "pygments_lexer": "r",
   "version": "4.1.3"
  }
 },
 "nbformat": 4,
 "nbformat_minor": 5
}
